{
 "cells": [
  {
   "cell_type": "code",
   "execution_count": null,
   "metadata": {},
   "outputs": [],
   "source": [
    "# lazyness\n",
    "\n",
    "def generator():\n",
    "    print(\"Created a generator\")\n",
    "    yield 1\n",
    "    print(\"Yielded first value\")\n",
    "    yield 2\n",
    "    print(\"Yielded second value\")\n",
    "    \n",
    "print(\"Creating the generator\")\n",
    "g = generator()\n",
    "print(g)\n",
    "print(\"Getting first value\")\n",
    "print(next(g))\n",
    "print(\"Getting second value\")\n",
    "print(next(g))\n",
    "print(\"Getting third value\")\n",
    "print(next(g))"
   ]
  },
  {
   "cell_type": "code",
   "execution_count": null,
   "metadata": {},
   "outputs": [],
   "source": [
    "# known generators\n",
    "\n",
    "range(0, 2)\n",
    "\n",
    "filter(lambda x: x > 0, [1, 2, -2, -1])\n",
    "\n",
    "map(lambda x: x > 0, [1, 2, -2, -1])"
   ]
  },
  {
   "cell_type": "code",
   "execution_count": null,
   "metadata": {},
   "outputs": [],
   "source": [
    "# lazy usage\n",
    "\n",
    "def generator():\n",
    "    yield 1\n",
    "    yield 2\n",
    "    \n",
    "def plus_two(g):\n",
    "    for x in g:\n",
    "        yield x + 2\n",
    "\n",
    "list(plus_two(generator()))"
   ]
  },
  {
   "cell_type": "code",
   "execution_count": null,
   "metadata": {},
   "outputs": [],
   "source": [
    "# interoparability\n",
    "\n",
    "def generator():\n",
    "    yield 1\n",
    "    yield 2\n",
    "    \n",
    "def plus_two(g):\n",
    "    for x in g:\n",
    "        yield x + 2\n",
    "\n",
    "list(plus_two(generator()))\n",
    "list(plus_two([1, 2, 3]))"
   ]
  },
  {
   "cell_type": "code",
   "execution_count": null,
   "metadata": {},
   "outputs": [],
   "source": [
    "# yield from\n",
    "\n",
    "def generator():\n",
    "    yield 1\n",
    "    yield 2\n",
    "    \n",
    "def few_times():\n",
    "    for _ in range(10):\n",
    "        yield from generator()\n",
    "\n",
    "list(few_times())"
   ]
  },
  {
   "cell_type": "code",
   "execution_count": null,
   "metadata": {},
   "outputs": [],
   "source": [
    "# Task\n",
    "\n",
    "# create the filter function (generator)\n",
    "# create the map function (generator)\n",
    "# create the cycle function (generator)"
   ]
  },
  {
   "cell_type": "code",
   "execution_count": null,
   "metadata": {},
   "outputs": [],
   "source": [
    "# Extra task\n",
    "\n",
    "# create the tee function (generator)\n",
    "# create the permutations function (generator)"
   ]
  },
  {
   "cell_type": "code",
   "execution_count": null,
   "metadata": {},
   "outputs": [],
   "source": [
    "# Bidirectional generators (coroutines)\n",
    "\n",
    "def pong():\n",
    "    message = yield\n",
    "    \n",
    "    while True:\n",
    "        if message == \"Ping\":\n",
    "            response = \"Pong\"\n",
    "        else:\n",
    "            response = None\n",
    "        \n",
    "        message = yield response\n",
    "\n",
    "pong_gen = pong()\n",
    "next(pong_gen)\n",
    "            \n",
    "for message in [\n",
    "    \"Ping\",\n",
    "    \"hello\",\n",
    "    \"Ping\",\n",
    "    \"Pong\",\n",
    "]:\n",
    "    print(f\"{message=} {pong_gen.send(message)=}\")\n"
   ]
  }
 ],
 "metadata": {
  "kernelspec": {
   "display_name": "Python 3 (ipykernel)",
   "language": "python",
   "name": "python3"
  },
  "language_info": {
   "codemirror_mode": {
    "name": "ipython",
    "version": 3
   },
   "file_extension": ".py",
   "mimetype": "text/x-python",
   "name": "python",
   "nbconvert_exporter": "python",
   "pygments_lexer": "ipython3",
   "version": "3.9.14"
  }
 },
 "nbformat": 4,
 "nbformat_minor": 2
}
