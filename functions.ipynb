{
 "cells": [
  {
   "cell_type": "code",
   "execution_count": null,
   "metadata": {},
   "outputs": [],
   "source": [
    "# Simple function\n",
    "def my_function(argument, keyword_argument=None):\n",
    "    return {\n",
    "        'arg': argument,\n",
    "        'kwarg': keyword_argument,\n",
    "    }\n",
    "\n",
    "print(my_function(1))\n",
    "print(my_function(1, 2))\n",
    "print(my_function(1, keyword_argument=3))"
   ]
  },
  {
   "cell_type": "code",
   "execution_count": null,
   "metadata": {},
   "outputs": [],
   "source": [
    "# Docstrings\n",
    "\n",
    "def my_function():\n",
    "    \"Here's a little bit of help\"\n",
    "\n",
    "help(my_function)"
   ]
  },
  {
   "cell_type": "code",
   "execution_count": null,
   "metadata": {},
   "outputs": [],
   "source": [
    "# Watch out for the keyword defaults\n",
    "def add_if_odd(i, numbers=[]):\n",
    "    if i % 2 != 0:\n",
    "        numbers.append(i)\n",
    "\n",
    "    return numbers\n",
    "\n",
    "print(add_if_odd(1, [1, 2, 3]))\n",
    "print(add_if_odd(1, [1, 2, 3]))\n",
    "print(add_if_odd(1))\n",
    "print(add_if_odd(2))"
   ]
  },
  {
   "cell_type": "code",
   "execution_count": null,
   "metadata": {},
   "outputs": [],
   "source": [
    "# Functions as arguments\n",
    "def is_odd(number):\n",
    "    return number %2 != 0\n",
    "\n",
    "def filter_by_condition(condition, collection):\n",
    "    results = []\n",
    "    \n",
    "    for i in collection:\n",
    "        if condition(i):\n",
    "            results.append(i)\n",
    "    \n",
    "    return results\n",
    "\n",
    "assert filter_by_condition(is_odd, [1, 2, 3, 4]) == [1, 3]"
   ]
  },
  {
   "cell_type": "code",
   "execution_count": null,
   "metadata": {},
   "outputs": [],
   "source": [
    "# Nested functions\n",
    "def is_odd(number):\n",
    "    return number %2 != 0\n",
    "\n",
    "def filter_by_condition(condition):\n",
    "    def filter_function(collection):\n",
    "        results = []\n",
    "    \n",
    "        for i in collection:\n",
    "            if condition(i):\n",
    "                results.append(i)\n",
    "    \n",
    "        return results\n",
    "    return filter_function\n",
    "\n",
    "is_odd_filter = filter_by_condition(is_odd)\n",
    "\n",
    "assert is_odd_filter( [1, 2, 3, 4]) == [1, 3]"
   ]
  },
  {
   "cell_type": "code",
   "execution_count": null,
   "metadata": {},
   "outputs": [],
   "source": [
    "# Functools - partial\n",
    "from functools import partial\n",
    "\n",
    "limit = partial(min, 10)\n",
    "limit(100)"
   ]
  },
  {
   "cell_type": "code",
   "execution_count": 25,
   "metadata": {},
   "outputs": [],
   "source": [
    "# Task\n",
    "\n",
    "# Create a jammed disc effect. No loops, ifs, etx allowed\n",
    "# more difficult: no \"def\" allowed\n",
    "\n",
    "# Level Elementary: For loops, lists\n",
    "# Level Advanced: No if, for and \n",
    "# Level Hard core: No `def` allowed\n",
    "\n",
    "# Hint: use these modules:\n",
    "import functools\n",
    "import itertools\n",
    "import operator\n",
    "import string\n",
    "\n",
    "def loop(base_text, skip=0, loop_length=1, loop_count=1):\n",
    "    i = iter(base_text.split())\n",
    "    \n",
    "    for _ in range(skip):\n",
    "        next(i)\n",
    "    \n",
    "    cache = []\n",
    "    for _ in range(loop_length):\n",
    "        cache.append(next(i))\n",
    "    \n",
    "    return \" \".join(cache[ind % loop_length] for ind in range(loop_count))\n",
    "\n",
    "\n",
    "text = 'Let me say hello and goodbye at the same time'\n",
    "\n",
    "assert loop(text, skip=3, loop_length=3, loop_count=10) == 'hello and goodbye hello and goodbye hello and goodbye hello'"
   ]
  }
 ],
 "metadata": {
  "kernelspec": {
   "display_name": "Python 3 (ipykernel)",
   "language": "python",
   "name": "python3"
  },
  "language_info": {
   "codemirror_mode": {
    "name": "ipython",
    "version": 3
   },
   "file_extension": ".py",
   "mimetype": "text/x-python",
   "name": "python",
   "nbconvert_exporter": "python",
   "pygments_lexer": "ipython3",
   "version": "3.9.14"
  }
 },
 "nbformat": 4,
 "nbformat_minor": 2
}
