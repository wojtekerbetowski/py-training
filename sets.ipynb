{
 "cells": [
  {
   "cell_type": "code",
   "execution_count": null,
   "metadata": {},
   "outputs": [],
   "source": [
    "# Simple operations\n",
    "\n",
    "my_set = set()\n",
    "my_other_set = {1, 2}\n",
    "\n",
    "# This wouldn't work\n",
    "# my_set = {}\n",
    "\n",
    "my_set.add(1)\n",
    "my_set.add(1)\n",
    "my_set.update({1, 2, 3})\n",
    "my_set.remove(2)\n",
    "\n",
    "print(my_set)"
   ]
  },
  {
   "cell_type": "code",
   "execution_count": null,
   "metadata": {},
   "outputs": [],
   "source": [
    "# Useful operations\n",
    "left = {1, 2}\n",
    "right = {2, 3}\n",
    "\n",
    "assert 1 in left\n",
    "assert left == {2, 1}\n",
    "assert left & right == {2}\n",
    "assert left ^ right == {1, 3}\n",
    "assert left - right == {1}"
   ]
  },
  {
   "cell_type": "code",
   "execution_count": null,
   "metadata": {},
   "outputs": [],
   "source": [
    "# Task\n",
    "\n",
    "# Create a set with 30 random days of year. Check how many were unique\n",
    "\n",
    "# Hint: use random.randint(0, 356)"
   ]
  },
  {
   "cell_type": "code",
   "execution_count": null,
   "metadata": {},
   "outputs": [],
   "source": [
    "# Task\n",
    "\n",
    "# Create an ordered list without duplicates\n",
    "\n",
    "# Now one more time, but preserve the original order"
   ]
  },
  {
   "cell_type": "code",
   "execution_count": null,
   "metadata": {},
   "outputs": [],
   "source": [
    "# Sets complexity\n",
    "\n",
    "from timeit import timeit\n",
    "\n",
    "loop_size = 10000\n",
    "\n",
    "def profile(fun):\n",
    "    \"Run an measure function. Returns millis\"\n",
    "    \n",
    "    return timeit(fun, number=loop_size) / loop_size * 1000 \n",
    "\n",
    "print(f\"Set creation: {profile(set)}\")\n",
    "\n",
    "my_set = set()\n",
    "\n",
    "def add():\n",
    "    my_set.add(0)\n",
    "\n",
    "print(f\"Append: {profile(add)}\")\n",
    "\n",
    "my_set = set(range(loop_size))\n",
    "items = iter(range(loop_size))\n",
    "\n",
    "def remove():\n",
    "    my_set.remove(next(items))\n",
    "\n",
    "print(f\"Remove: {profile(remove)}\")\n",
    "\n",
    "my_set = set(range(loop_size))\n",
    "\n",
    "def pop():\n",
    "    my_set.pop()\n",
    "\n",
    "print(f\"Pop: {profile(pop)}\")"
   ]
  }
 ],
 "metadata": {
  "kernelspec": {
   "display_name": "Python 3 (ipykernel)",
   "language": "python",
   "name": "python3"
  },
  "language_info": {
   "codemirror_mode": {
    "name": "ipython",
    "version": 3
   },
   "file_extension": ".py",
   "mimetype": "text/x-python",
   "name": "python",
   "nbconvert_exporter": "python",
   "pygments_lexer": "ipython3",
   "version": "3.9.14"
  }
 },
 "nbformat": 4,
 "nbformat_minor": 2
}
