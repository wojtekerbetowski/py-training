{
 "cells": [
  {
   "cell_type": "code",
   "execution_count": null,
   "id": "a9eebd66",
   "metadata": {},
   "outputs": [],
   "source": [
    "# Process low level\n",
    "\n",
    "from multiprocessing import Process\n",
    "import os\n",
    "\n",
    "if __name__ == '__main__':\n",
    "    p = Process(target=print, args=('hello world',))\n",
    "    p.start()\n",
    "    p.join()"
   ]
  },
  {
   "cell_type": "code",
   "execution_count": null,
   "id": "8b25d63f",
   "metadata": {},
   "outputs": [],
   "source": [
    "# Using a pool\n",
    "\n",
    "from multiprocessing import Pool\n",
    "\n",
    "if __name__ == '__main__':\n",
    "    with Pool(5) as p:\n",
    "        print(p.map(abs, [-1, 2, -3]))"
   ]
  },
  {
   "cell_type": "code",
   "execution_count": 59,
   "id": "5d6bb2e8",
   "metadata": {},
   "outputs": [
    {
     "name": "stdout",
     "output_type": "stream",
     "text": [
      "9\n",
      "9\n",
      "10\n"
     ]
    }
   ],
   "source": [
    "# concurrent.futures\n",
    "\n",
    "from concurrent.futures import ThreadPoolExecutor, ProcessPoolExecutor\n",
    "\n",
    "import time\n",
    "def wait_and_return(i):\n",
    "    time.sleep(i)\n",
    "    return i\n",
    "\n",
    "\n",
    "executor = ThreadPoolExecutor(max_workers=2)\n",
    "# a = executor.submit(wait_and_return(5))\n",
    "# b = executor.submit(wait_and_return(2))\n",
    "for i in executor.map(wait_and_return, [9, 9, 10]):\n",
    "    print(i)"
   ]
  },
  {
   "cell_type": "code",
   "execution_count": null,
   "id": "1d4c8578",
   "metadata": {},
   "outputs": [],
   "source": [
    "# asyncio\n",
    "\n",
    "import asyncio\n",
    "\n",
    "async def main():\n",
    "    print('Hello')\n",
    "    await asyncio.sleep(1)\n",
    "    print('world')\n",
    "\n",
    "loop = asyncio.get_event_loop()\n",
    "loop.run_until_complete(main)"
   ]
  }
 ],
 "metadata": {
  "kernelspec": {
   "display_name": "Python 3 (ipykernel)",
   "language": "python",
   "name": "python3"
  },
  "language_info": {
   "codemirror_mode": {
    "name": "ipython",
    "version": 3
   },
   "file_extension": ".py",
   "mimetype": "text/x-python",
   "name": "python",
   "nbconvert_exporter": "python",
   "pygments_lexer": "ipython3",
   "version": "3.9.14"
  }
 },
 "nbformat": 4,
 "nbformat_minor": 5
}
