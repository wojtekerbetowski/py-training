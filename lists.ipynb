{
 "cells": [
  {
   "cell_type": "code",
   "execution_count": null,
   "metadata": {},
   "outputs": [],
   "source": [
    "# List creation\n",
    "\n",
    "# Function\n",
    "empty_list = list()\n",
    "print(empty_list)\n",
    "\n",
    "# Shortcut\n",
    "other_empty_list = []\n",
    "print(other_empty_list)\n",
    "\n",
    "# Listing elements\n",
    "my_list = [1, 2, 3]\n",
    "print(my_list)"
   ]
  },
  {
   "cell_type": "code",
   "execution_count": null,
   "metadata": {},
   "outputs": [],
   "source": [
    "# Removing elements\n",
    "\n",
    "my_list = []\n",
    "\n",
    "my_list.append(\"a\")\n",
    "my_list.append(\"b\")\n",
    "my_list.append(\"c\")\n",
    "\n",
    "del my_list[1]\n",
    "my_list.remove(\"a\")\n",
    "\n",
    "my_list"
   ]
  },
  {
   "cell_type": "code",
   "execution_count": null,
   "metadata": {},
   "outputs": [],
   "source": [
    "# Iterating over a list\n",
    "my_list = [1, 2, 3]\n",
    "\n",
    "for elem in range(1, 4):\n",
    "    assert elem in my_list\n",
    "\n",
    "# Collecting results\n",
    "squares = []\n",
    "\n",
    "for item in range(0, 10):\n",
    "    squares.append(item ** 2)\n",
    "    \n",
    "print(squares)"
   ]
  },
  {
   "cell_type": "code",
   "execution_count": null,
   "metadata": {},
   "outputs": [],
   "source": [
    "# No type is assigned to the list\n",
    "\n",
    "my_list = [\"hello\", None, 0]\n",
    "print(my_list)"
   ]
  },
  {
   "cell_type": "code",
   "execution_count": null,
   "metadata": {},
   "outputs": [],
   "source": [
    "# Length\n",
    "len([1, 2, 3, 4])"
   ]
  },
  {
   "cell_type": "code",
   "execution_count": null,
   "metadata": {},
   "outputs": [],
   "source": [
    "# Sorted\n",
    "my_list = [-1, 0, -2, 3]\n",
    "\n",
    "assert sorted(my_list) == [-2, -1, 0, 3]\n",
    "\n",
    "# Copying a list\n",
    "my_copy = list(my_list)\n",
    "\n",
    "# Sort in place\n",
    "my_list.sort()\n",
    "\n",
    "assert my_list == [-2, -1, 0, 3]\n",
    "assert my_copy != my_list"
   ]
  },
  {
   "cell_type": "code",
   "execution_count": null,
   "metadata": {},
   "outputs": [],
   "source": [
    "# Unpacking\n",
    "a, b = [1, 2,]\n",
    "\n",
    "print(f\"a = {a}, b = {b}\")"
   ]
  },
  {
   "cell_type": "code",
   "execution_count": null,
   "metadata": {},
   "outputs": [],
   "source": [
    "# Subset\n",
    "\n",
    "my_list = [-1, 2, 1]\n",
    "\n",
    "assert my_list[1] == 2\n",
    "assert my_list[0:1] == [-1]\n",
    "assert my_list[2:] == [1]\n",
    "assert my_list[::2] == [-1, 1]"
   ]
  },
  {
   "cell_type": "code",
   "execution_count": null,
   "metadata": {},
   "outputs": [],
   "source": [
    "# Building a custom list\n",
    "import collections\n",
    "\n",
    "class OddOnlyList(collections.UserList):\n",
    "    \n",
    "    def append(self, item):\n",
    "        if item % 2 != 0:\n",
    "            self.data.append(item)\n",
    "\n",
    "l = OddOnlyList()\n",
    "\n",
    "l.append(2)\n",
    "l.append(1)\n",
    "l.append(3)\n",
    "\n",
    "assert l == [1, 3]"
   ]
  },
  {
   "cell_type": "code",
   "execution_count": null,
   "metadata": {},
   "outputs": [],
   "source": [
    "# Task\n",
    "\n",
    "# Modify the OddOnlyList so that it:\n",
    "  # contains a list of the rejected items\n",
    "  # works properly, when used with a contructor\n",
    "\n",
    "import collections\n",
    "\n",
    "class OddOnlyList(collections.UserList):\n",
    "    \n",
    "    def __init__(self, iterable=None):\n",
    "        super().__init__(iterable)\n",
    "\n",
    "    def append(self, item):\n",
    "        if item % 2 != 0:\n",
    "            self.data.append(item)\n",
    "        else:\n",
    "            self.rejected_items.append(item)\n",
    "\n",
    "# Constructor\n",
    "assert OddOnlyList([1, 2, 3]) == [1, 3]\n",
    "\n",
    "# rejejcted_items\n",
    "my_list = OddOnlyList()\n",
    "my_list.append(1)\n",
    "my_list.append(2)\n",
    "my_list.append(3)\n",
    "\n",
    "assert my_list.rejected_items == [2]\n"
   ]
  },
  {
   "cell_type": "code",
   "execution_count": null,
   "metadata": {},
   "outputs": [],
   "source": [
    "# Task\n",
    "\n",
    "# Build a FilesList - a collection which accepts files as a pathlib Path object\n",
    "# It rejects nonb-existing files, with an error\n",
    "# It exposes a size() method with the sum of all the file sizes\n",
    "\n",
    "# Hint: use pathlib.Path with methods exists() and stat().st_size\n",
    "\n",
    "import collections\n",
    "\n",
    "class FilesList(collections.UserList):\n",
    "    def __init__(self, collection=None):\n",
    "        super().__init__(collection)\n",
    "\n",
    "    def append(self, item):\n",
    "        super().append(item)\n",
    "\n",
    "    def __setitem__(self, i, item):\n",
    "        super().__setitem__(i, item)\n",
    "    \n",
    "    def size(self):\n",
    "        return 0\n",
    "\n",
    "        \n",
    "files = FilesList()\n",
    "\n",
    "files.append('.')\n",
    "files.append('no_such_file')\n",
    "\n",
    "assert files.size() > 0\n",
    "assert len(files) == 1"
   ]
  },
  {
   "cell_type": "code",
   "execution_count": null,
   "metadata": {},
   "outputs": [],
   "source": [
    "# Lists complexity\n",
    "\n",
    "from timeit import timeit\n",
    "\n",
    "loop_size = 10000\n",
    "\n",
    "def profile(fun):\n",
    "    \"Run an measure function. Returns millis\"\n",
    "    \n",
    "    return timeit(fun, number=loop_size) / loop_size * 1000 \n",
    "\n",
    "print(f\"List creation: {profile(list)}\")\n",
    "\n",
    "my_list = []\n",
    "\n",
    "def append():\n",
    "    my_list.append(0)\n",
    "\n",
    "print(f\"Append: {profile(append)}\")\n",
    "\n",
    "def remove():\n",
    "    del my_list[0]\n",
    "\n",
    "print(f\"Remove: {profile(remove)}\")\n",
    "\n",
    "my_list = list(range(10000))\n",
    "\n",
    "def pop():\n",
    "    my_list.pop()\n",
    "\n",
    "print(f\"Pop: {profile(pop)}\")"
   ]
  }
 ],
 "metadata": {
  "kernelspec": {
   "display_name": "Python 3 (ipykernel)",
   "language": "python",
   "name": "python3"
  },
  "language_info": {
   "codemirror_mode": {
    "name": "ipython",
    "version": 3
   },
   "file_extension": ".py",
   "mimetype": "text/x-python",
   "name": "python",
   "nbconvert_exporter": "python",
   "pygments_lexer": "ipython3",
   "version": "3.9.14"
  }
 },
 "nbformat": 4,
 "nbformat_minor": 2
}
