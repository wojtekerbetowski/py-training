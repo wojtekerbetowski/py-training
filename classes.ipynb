{
 "cells": [
  {
   "cell_type": "code",
   "execution_count": 9,
   "id": "0414aa4e",
   "metadata": {},
   "outputs": [
    {
     "name": "stdout",
     "output_type": "stream",
     "text": [
      "<__main__.User object at 0x106f869d0>\n",
      "<class '__main__.User'>\n",
      "<class '__main__.User'>\n",
      "Joe\n"
     ]
    }
   ],
   "source": [
    "# simple declaration\n",
    "\n",
    "class User:\n",
    "    pass\n",
    "\n",
    "user = User()\n",
    "print(user)\n",
    "print(User)\n",
    "print(type(user))\n",
    "\n",
    "user.name = \"Joe\"\n",
    "\n",
    "print(user.name)"
   ]
  },
  {
   "cell_type": "code",
   "execution_count": 13,
   "id": "8962e588",
   "metadata": {},
   "outputs": [
    {
     "name": "stdout",
     "output_type": "stream",
     "text": [
      "Bob (age: 0)\n",
      "Bob (age: 1)\n"
     ]
    },
    {
     "data": {
      "text/plain": [
       "User(Bob)"
      ]
     },
     "execution_count": 13,
     "metadata": {},
     "output_type": "execute_result"
    }
   ],
   "source": [
    "# init, methods and fields\n",
    "\n",
    "class User:\n",
    "    def __init__(self, name):\n",
    "        self.age = 0\n",
    "        self.name = name\n",
    "    \n",
    "    def grow_up(self):\n",
    "        self.age += 1\n",
    "    \n",
    "    def __str__(self):\n",
    "        return f\"{self.name} (age: {self.age})\"\n",
    "    \n",
    "    def __repr__(self):\n",
    "        return f\"User({self.name})\"\n",
    "\n",
    "user = User(\"Bob\")\n",
    "print(user)\n",
    "user.grow_up()\n",
    "print(user)\n",
    "user"
   ]
  },
  {
   "cell_type": "code",
   "execution_count": 24,
   "id": "106403f1",
   "metadata": {},
   "outputs": [
    {
     "name": "stdout",
     "output_type": "stream",
     "text": [
      "ann < bob False\n",
      "ann == bob True\n",
      "ann < bob True\n",
      "ann == bob False\n",
      "4480924016\n",
      "8646556883963102005\n"
     ]
    }
   ],
   "source": [
    "# common methods: eq, hash\n",
    "\n",
    "class User:\n",
    "    def __init__(self, name):\n",
    "        self.age = 0\n",
    "        self.name = name\n",
    "    \n",
    "    def grow_up(self):\n",
    "        self.age += 1\n",
    "    \n",
    "    def __str__(self):\n",
    "        return f\"{self.name} (age: {self.age})\"\n",
    "    \n",
    "    def __repr__(self):\n",
    "        return f\"User({self.name})\"\n",
    "    \n",
    "    def __lt__(self, other):\n",
    "        return self.age < other.age\n",
    "    \n",
    "    def __eq__(self, other):\n",
    "        return self.age == other.age\n",
    "    \n",
    "    def __hash__(self):\n",
    "        return hash((self.name, self.name))\n",
    "\n",
    "    \n",
    "ann = User(\"Ann\")\n",
    "bob = User(\"Bob\")\n",
    "print(\"ann < bob\", ann < bob)\n",
    "print(\"ann == bob\", ann == bob)\n",
    "bob.grow_up()\n",
    "print(\"ann < bob\", ann < bob)\n",
    "print(\"ann == bob\", ann == bob)\n",
    "\n",
    "print(id(ann))\n",
    "print(hash(ann))"
   ]
  },
  {
   "cell_type": "code",
   "execution_count": null,
   "id": "183b28b0",
   "metadata": {},
   "outputs": [],
   "source": [
    "# Task\n",
    "\n",
    "# Create a Meeting class, holding information, such as title, start_time, end_time\n",
    "\n",
    "# implement all necessary methods\n",
    "# a meeting is < another meeting when it starts earlier (or ends sooner if the start time is equal)\n"
   ]
  },
  {
   "cell_type": "code",
   "execution_count": 26,
   "id": "6a56bdde",
   "metadata": {},
   "outputs": [],
   "source": [
    "# classmethod, classfunction\n",
    "\n",
    "class User:\n",
    "    \n",
    "    @staticmethod\n",
    "    def normalize_age(age):\n",
    "        return max(0, int(age))"
   ]
  },
  {
   "cell_type": "code",
   "execution_count": 27,
   "id": "f9587d28",
   "metadata": {},
   "outputs": [],
   "source": [
    "# private fields\n",
    "\n",
    "class Wallet:\n",
    "    \n",
    "    def __init__(self, amount=0):\n",
    "        self.__amount = 0\n",
    "    \n",
    "    def spend(self, amount):\n",
    "        if amount > self.__amount:\n",
    "            raise Exception(\"Not enough money\")\n",
    "        \n",
    "        self.__amount -= amount"
   ]
  },
  {
   "cell_type": "code",
   "execution_count": 28,
   "id": "593dd6f0",
   "metadata": {},
   "outputs": [
    {
     "name": "stdout",
     "output_type": "stream",
     "text": [
      "Running operation\n",
      "Operation executing with 10\n",
      "Finished operation successfully\n"
     ]
    }
   ],
   "source": [
    "# object as function\n",
    "\n",
    "class Executor:\n",
    "    \n",
    "    def __init__(self, operation):\n",
    "        self.__operation = operation\n",
    "    \n",
    "    def __call__(self, *args, **kwargs):\n",
    "        print(\"Running operation\")\n",
    "        self.__operation(*args, **kwargs)\n",
    "        print(\"Finished operation successfully\")\n",
    "\n",
    "def op(x):\n",
    "    print(f\"Operation executing with {x}\")\n",
    "\n",
    "e = Executor(op)\n",
    "\n",
    "e(10)"
   ]
  },
  {
   "cell_type": "code",
   "execution_count": 39,
   "id": "ef996c38",
   "metadata": {},
   "outputs": [
    {
     "name": "stdout",
     "output_type": "stream",
     "text": [
      "Running operation printer\n",
      "Printing\n"
     ]
    }
   ],
   "source": [
    "# inheritance, ABCs\n",
    "\n",
    "import abc\n",
    "\n",
    "class Operation(abc.ABC):\n",
    "    \n",
    "    def __init__(self, name):\n",
    "        self.__name = name\n",
    "    \n",
    "    @abc.abstractmethod\n",
    "    def run(self):\n",
    "        pass\n",
    "    \n",
    "    def __call__(self):\n",
    "        print(f\"Running operation {self.__name}\")\n",
    "        self.run()\n",
    "\n",
    "class Printer(Operation):\n",
    "    \n",
    "    def __init__(self):\n",
    "        super().__init__(\"printer\")\n",
    "    \n",
    "    def run(self):\n",
    "        print(\"Printing\")\n",
    "        \n",
    "printer = Printer()\n",
    "printer()"
   ]
  },
  {
   "cell_type": "code",
   "execution_count": 7,
   "id": "65220780",
   "metadata": {},
   "outputs": [],
   "source": [
    "# Metaclass"
   ]
  },
  {
   "cell_type": "code",
   "execution_count": null,
   "id": "bcc68804",
   "metadata": {},
   "outputs": [],
   "source": [
    "# Task\n",
    "\n",
    "# Create a Writer ABC with a simple `write(msg)` method\n",
    "\n",
    "# Create a straightforward SimpleWriter implementation \n",
    "\n",
    "# Create BatchWriter, which only writes once it accumulates 3 messages\n"
   ]
  }
 ],
 "metadata": {
  "kernelspec": {
   "display_name": "Python 3",
   "language": "python",
   "name": "python3"
  },
  "language_info": {
   "codemirror_mode": {
    "name": "ipython",
    "version": 3
   },
   "file_extension": ".py",
   "mimetype": "text/x-python",
   "name": "python",
   "nbconvert_exporter": "python",
   "pygments_lexer": "ipython3",
   "version": "3.9.4"
  }
 },
 "nbformat": 4,
 "nbformat_minor": 5
}
