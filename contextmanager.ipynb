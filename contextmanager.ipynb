{
 "cells": [
  {
   "cell_type": "code",
   "execution_count": 3,
   "id": "53c19728",
   "metadata": {},
   "outputs": [],
   "source": [
    "# use f as an open file, which will be closed afterwards\n",
    "\n",
    "with open('/tmp/file_test', 'w') as f:\n",
    "    f.write('hello')\n"
   ]
  },
  {
   "cell_type": "code",
   "execution_count": 37,
   "id": "b454b50a",
   "metadata": {},
   "outputs": [],
   "source": [
    "f = open('/tmp/file_test', 'w')"
   ]
  },
  {
   "cell_type": "code",
   "execution_count": null,
   "id": "c0070538",
   "metadata": {},
   "outputs": [],
   "source": [
    "f"
   ]
  },
  {
   "cell_type": "code",
   "execution_count": 10,
   "id": "6b8ebeec",
   "metadata": {},
   "outputs": [],
   "source": [
    "f.close()"
   ]
  },
  {
   "cell_type": "code",
   "execution_count": 31,
   "id": "82296669",
   "metadata": {},
   "outputs": [
    {
     "ename": "ValueError",
     "evalue": "I/O operation on closed file.",
     "output_type": "error",
     "traceback": [
      "\u001b[0;31m---------------------------------------------------------------------------\u001b[0m",
      "\u001b[0;31mValueError\u001b[0m                                Traceback (most recent call last)",
      "\u001b[0;32m<ipython-input-31-be0e6a619396>\u001b[0m in \u001b[0;36m<module>\u001b[0;34m\u001b[0m\n\u001b[0;32m----> 1\u001b[0;31m \u001b[0mf\u001b[0m\u001b[0;34m.\u001b[0m\u001b[0mwrite\u001b[0m\u001b[0;34m(\u001b[0m\u001b[0;34m''\u001b[0m\u001b[0;34m)\u001b[0m\u001b[0;34m\u001b[0m\u001b[0;34m\u001b[0m\u001b[0m\n\u001b[0m",
      "\u001b[0;31mValueError\u001b[0m: I/O operation on closed file."
     ]
    }
   ],
   "source": [
    "f.write('')"
   ]
  },
  {
   "cell_type": "code",
   "execution_count": 38,
   "id": "a98e8013",
   "metadata": {},
   "outputs": [
    {
     "data": {
      "text/plain": [
       "<_io.TextIOWrapper name='/tmp/file_test' mode='w' encoding='UTF-8'>"
      ]
     },
     "execution_count": 38,
     "metadata": {},
     "output_type": "execute_result"
    }
   ],
   "source": [
    "f.__enter__()"
   ]
  },
  {
   "cell_type": "code",
   "execution_count": 39,
   "id": "898c4d5c",
   "metadata": {},
   "outputs": [
    {
     "data": {
      "text/plain": [
       "5"
      ]
     },
     "execution_count": 39,
     "metadata": {},
     "output_type": "execute_result"
    }
   ],
   "source": [
    "f.write('hello')"
   ]
  },
  {
   "cell_type": "code",
   "execution_count": 40,
   "id": "c640f500",
   "metadata": {},
   "outputs": [],
   "source": [
    "f.__exit__()"
   ]
  },
  {
   "cell_type": "code",
   "execution_count": 41,
   "id": "78c063e1",
   "metadata": {},
   "outputs": [
    {
     "ename": "ValueError",
     "evalue": "I/O operation on closed file.",
     "output_type": "error",
     "traceback": [
      "\u001b[0;31m---------------------------------------------------------------------------\u001b[0m",
      "\u001b[0;31mValueError\u001b[0m                                Traceback (most recent call last)",
      "\u001b[0;32m<ipython-input-41-00cba062fa3d>\u001b[0m in \u001b[0;36m<module>\u001b[0;34m\u001b[0m\n\u001b[0;32m----> 1\u001b[0;31m \u001b[0mf\u001b[0m\u001b[0;34m.\u001b[0m\u001b[0mwrite\u001b[0m\u001b[0;34m(\u001b[0m\u001b[0;34m'hello'\u001b[0m\u001b[0;34m)\u001b[0m\u001b[0;34m\u001b[0m\u001b[0;34m\u001b[0m\u001b[0m\n\u001b[0m",
      "\u001b[0;31mValueError\u001b[0m: I/O operation on closed file."
     ]
    }
   ],
   "source": [
    "f.write('hello')"
   ]
  },
  {
   "cell_type": "code",
   "execution_count": 44,
   "id": "c5ecb459",
   "metadata": {},
   "outputs": [],
   "source": [
    "# let's create our own context manager\n",
    "\n",
    "class MyContextManager:\n",
    "    \n",
    "    def __init__(self, name):\n",
    "        self.name = name\n",
    "        print(f'Creating {self.name}')\n",
    "\n",
    "    def __enter__(self):\n",
    "        print(f'Entering context {self.name}')\n",
    "        return self\n",
    "\n",
    "    def __exit__(self, type, value, traceback):\n",
    "        print(f'Exiting context {self.name}')\n"
   ]
  },
  {
   "cell_type": "code",
   "execution_count": 46,
   "id": "6e20af85",
   "metadata": {},
   "outputs": [
    {
     "name": "stdout",
     "output_type": "stream",
     "text": [
      "Creating My Context manager\n",
      "Entering context My Context manager\n",
      "Using <__main__.MyContextManager object at 0x107ee14f0>\n",
      "Exiting context My Context manager\n"
     ]
    }
   ],
   "source": [
    "with MyContextManager('My Context manager') as mc:\n",
    "    print(f'Using {mc}')"
   ]
  },
  {
   "cell_type": "code",
   "execution_count": 50,
   "id": "0707a989",
   "metadata": {},
   "outputs": [
    {
     "name": "stdout",
     "output_type": "stream",
     "text": [
      "Entering context My Context manager\n",
      "Using My Context manager\n",
      "Exiting context My Context manager\n"
     ]
    }
   ],
   "source": [
    "# Using utility for better verbosity\n",
    "\n",
    "import contextlib\n",
    "\n",
    "@contextlib.contextmanager\n",
    "def MyContextManager(name):\n",
    "    print(f'Entering context {name}')\n",
    "    yield name\n",
    "    print(f'Exiting context {name}')\n",
    "\n",
    "with MyContextManager('My Context manager') as mc:\n",
    "    print(f'Using {mc}')"
   ]
  }
 ],
 "metadata": {
  "kernelspec": {
   "display_name": "Python 3",
   "language": "python",
   "name": "python3"
  },
  "language_info": {
   "codemirror_mode": {
    "name": "ipython",
    "version": 3
   },
   "file_extension": ".py",
   "mimetype": "text/x-python",
   "name": "python",
   "nbconvert_exporter": "python",
   "pygments_lexer": "ipython3",
   "version": "3.9.4"
  }
 },
 "nbformat": 4,
 "nbformat_minor": 5
}
