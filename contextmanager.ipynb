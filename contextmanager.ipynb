{
 "cells": [
  {
   "cell_type": "code",
   "execution_count": null,
   "id": "53c19728",
   "metadata": {},
   "outputs": [],
   "source": [
    "# use f as an open file, which will be closed afterwards\n",
    "\n",
    "with open('/tmp/file_test', 'w') as f:\n",
    "    f.write('hello')\n"
   ]
  },
  {
   "cell_type": "code",
   "execution_count": null,
   "id": "b454b50a",
   "metadata": {},
   "outputs": [],
   "source": [
    "f = open('/tmp/file_test', 'w')"
   ]
  },
  {
   "cell_type": "code",
   "execution_count": null,
   "id": "c0070538",
   "metadata": {},
   "outputs": [],
   "source": [
    "f"
   ]
  },
  {
   "cell_type": "code",
   "execution_count": null,
   "id": "6b8ebeec",
   "metadata": {},
   "outputs": [],
   "source": [
    "f.close()"
   ]
  },
  {
   "cell_type": "code",
   "execution_count": null,
   "id": "82296669",
   "metadata": {},
   "outputs": [],
   "source": [
    "f.write('')"
   ]
  },
  {
   "cell_type": "code",
   "execution_count": null,
   "id": "a98e8013",
   "metadata": {},
   "outputs": [],
   "source": [
    "f.__enter__()"
   ]
  },
  {
   "cell_type": "code",
   "execution_count": null,
   "id": "898c4d5c",
   "metadata": {},
   "outputs": [],
   "source": [
    "f.write('hello')"
   ]
  },
  {
   "cell_type": "code",
   "execution_count": null,
   "id": "c640f500",
   "metadata": {},
   "outputs": [],
   "source": [
    "f.__exit__()"
   ]
  },
  {
   "cell_type": "code",
   "execution_count": null,
   "id": "78c063e1",
   "metadata": {},
   "outputs": [],
   "source": [
    "f.write('hello')"
   ]
  },
  {
   "cell_type": "code",
   "execution_count": null,
   "id": "c5ecb459",
   "metadata": {},
   "outputs": [],
   "source": [
    "# let's create our own context manager\n",
    "\n",
    "class MyContextManager:\n",
    "    \n",
    "    def __init__(self, name):\n",
    "        self.name = name\n",
    "        print(f'Creating {self.name}')\n",
    "\n",
    "    def __enter__(self):\n",
    "        print(f'Entering context {self.name}')\n",
    "        return self\n",
    "\n",
    "    def __exit__(self, type, value, traceback):\n",
    "        print(f'Exiting context {self.name}')\n"
   ]
  },
  {
   "cell_type": "code",
   "execution_count": null,
   "id": "6e20af85",
   "metadata": {},
   "outputs": [],
   "source": [
    "with MyContextManager('My Context manager') as mc:\n",
    "    print(f'Using {mc}')"
   ]
  },
  {
   "cell_type": "code",
   "execution_count": null,
   "id": "0707a989",
   "metadata": {},
   "outputs": [],
   "source": [
    "# Using utility for better verbosity\n",
    "\n",
    "import contextlib\n",
    "\n",
    "@contextlib.contextmanager\n",
    "def MyContextManager(name):\n",
    "    print(f'Entering context {name}')\n",
    "    yield name\n",
    "    print(f'Exiting context {name}')\n",
    "\n",
    "with MyContextManager('My Context manager') as mc:\n",
    "    print(f'Using {mc}')"
   ]
  },
  {
   "cell_type": "code",
   "execution_count": null,
   "id": "24353f26",
   "metadata": {},
   "outputs": [],
   "source": [
    "# Task\n",
    "\n",
    "# Create a timeit() context manager\n",
    "\n",
    "with timeit(): # prints \"Operation took 5.xxxx seconds\"\n",
    "    time.sleep(5)"
   ]
  }
 ],
 "metadata": {
  "kernelspec": {
   "display_name": "Python 3 (ipykernel)",
   "language": "python",
   "name": "python3"
  },
  "language_info": {
   "codemirror_mode": {
    "name": "ipython",
    "version": 3
   },
   "file_extension": ".py",
   "mimetype": "text/x-python",
   "name": "python",
   "nbconvert_exporter": "python",
   "pygments_lexer": "ipython3",
   "version": "3.9.14"
  }
 },
 "nbformat": 4,
 "nbformat_minor": 5
}
