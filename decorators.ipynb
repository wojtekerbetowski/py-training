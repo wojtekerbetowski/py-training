{
 "cells": [
  {
   "cell_type": "code",
   "execution_count": null,
   "metadata": {},
   "outputs": [],
   "source": [
    "# creating by hand\n",
    "def two():\n",
    "    return 2\n",
    "\n",
    "def plus_one(func):\n",
    "    def helper():\n",
    "        return func() + 1\n",
    "\n",
    "    return helper\n",
    "\n",
    "three = plus_one(two)\n",
    "assert three() == 3"
   ]
  },
  {
   "cell_type": "code",
   "execution_count": null,
   "metadata": {},
   "outputs": [],
   "source": [
    "# annotation\n",
    "def plus_one(func):\n",
    "    def helper():\n",
    "        return func() + 1\n",
    "\n",
    "    return helper\n",
    "\n",
    "@plus_one\n",
    "def three():\n",
    "    return 2\n",
    "\n",
    "three = plus_one(two)\n",
    "assert three() == 3"
   ]
  },
  {
   "cell_type": "code",
   "execution_count": null,
   "metadata": {},
   "outputs": [],
   "source": [
    "# parametrized decorator\n",
    "\n",
    "def verbose(silent=False):\n",
    "    def verbose_decorator(func):\n",
    "        def decorated():\n",
    "            if not silent:\n",
    "                print(f\"Before {func.__name__}\")\n",
    "            result = func()\n",
    "            if not silent:\n",
    "                print(f\"After {func.__name__}\")\n",
    "            return result\n",
    "        return decorated\n",
    "    return verbose_decorator\n",
    "\n",
    "@verbose(silent=False)\n",
    "def loud_hello():\n",
    "    return 'hello'\n",
    "\n",
    "@verbose()\n",
    "def also_loud_hello():\n",
    "    return 'hello'\n",
    "\n",
    "@verbose(silent=True)\n",
    "def silent_hello():\n",
    "    return 'hello'\n",
    "\n",
    "print(loud_hello())\n",
    "print(also_loud_hello())\n",
    "print(silent_hello())\n"
   ]
  },
  {
   "cell_type": "code",
   "execution_count": null,
   "metadata": {},
   "outputs": [],
   "source": [
    "# using arguments\n",
    "def log_args(func):\n",
    "    def decorated(*args, **kwargs):\n",
    "        print(f\"calling {func.__name__}({args}, {kwargs})\")\n",
    "        return func(*args, **kwargs)\n",
    "    \n",
    "    return decorated\n",
    "\n",
    "@log_args\n",
    "def hello(a, b):\n",
    "    return 'hello'\n",
    "\n",
    "print(hello(1, b=10))\n"
   ]
  },
  {
   "cell_type": "code",
   "execution_count": null,
   "metadata": {},
   "outputs": [],
   "source": [
    "# Task\n",
    "\n",
    "# create a time logging decorator\n",
    "\n",
    "@timer(verbose=True)\n",
    "def hello():\n",
    "    return \"hello\"\n",
    "\n",
    "hello()\n",
    "# prints: \"function hello took 5.92s\""
   ]
  },
  {
   "cell_type": "code",
   "execution_count": null,
   "metadata": {},
   "outputs": [],
   "source": [
    "# Task\n",
    "\n",
    "# create a memoize decorator\n",
    "# Task\n",
    "\n",
    "# create a time logging decorator\n",
    "\n",
    "@memoize\n",
    "def rand():\n",
    "    return random.randint(100)\n",
    "\n",
    "assert rand() == rand()"
   ]
  }
 ],
 "metadata": {
  "kernelspec": {
   "display_name": "Python 3 (ipykernel)",
   "language": "python",
   "name": "python3"
  },
  "language_info": {
   "codemirror_mode": {
    "name": "ipython",
    "version": 3
   },
   "file_extension": ".py",
   "mimetype": "text/x-python",
   "name": "python",
   "nbconvert_exporter": "python",
   "pygments_lexer": "ipython3",
   "version": "3.9.14"
  }
 },
 "nbformat": 4,
 "nbformat_minor": 2
}
