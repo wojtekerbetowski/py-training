{
 "cells": [
  {
   "cell_type": "code",
   "execution_count": null,
   "metadata": {},
   "outputs": [],
   "source": [
    "my_empty_dict = {}\n",
    "\n",
    "assert len(my_empty_dict) == 0\n",
    "assert my_empty_dict == dict()"
   ]
  },
  {
   "cell_type": "code",
   "execution_count": null,
   "metadata": {},
   "outputs": [],
   "source": [
    "# dict with elements\n",
    "\n",
    "my_dict = {\n",
    "    'a': 1,\n",
    "    'b': 5,\n",
    "}\n",
    "\n",
    "my_dict['c'] = 2\n",
    "my_dict['d'] = -1\n",
    "\n",
    "del my_dict['c']\n",
    "\n",
    "print(my_dict)\n",
    "\n",
    "assert len(my_dict) == 3\n",
    "\n",
    "assert dict(my_dict) == my_dict\n",
    "assert dict(my_dict) is not my_dict\n",
    "\n",
    "assert 'a' in my_dict"
   ]
  },
  {
   "cell_type": "code",
   "execution_count": null,
   "metadata": {},
   "outputs": [],
   "source": [
    "# iterating\n",
    "\n",
    "import string\n",
    "my_dict = {\n",
    "    v: k\n",
    "    for k, v\n",
    "    in enumerate(string.ascii_lowercase)\n",
    "}\n",
    "\n",
    "for key, val in my_dict.items():\n",
    "    print(key, val)"
   ]
  },
  {
   "cell_type": "code",
   "execution_count": null,
   "metadata": {},
   "outputs": [],
   "source": [
    "# Task\n",
    "\n",
    "# Count how many times given word occured in a space-separated string\n",
    "s = 'anna bob andrew anna arthur arthur'\n",
    "\n",
    "result = None\n",
    "\n",
    "# ...\n",
    "\n",
    "assert len(result) == 4\n",
    "assert result['bob'] == 1\n",
    "assert result['anna'] == 2"
   ]
  },
  {
   "cell_type": "code",
   "execution_count": null,
   "metadata": {},
   "outputs": [],
   "source": [
    "# Task\n",
    "\n",
    "# write a simple function for comparing dicts\n",
    "\n",
    "def diff(left, right):\n",
    "    pass\n",
    "\n",
    "assert diff({}, dict()) == set()\n",
    "assert diff({'a': 1}, dict()) == {'a'}\n",
    "assert diff({'a': 1}, {'b': 2}) == {'a', 'b'}\n",
    "assert diff(\n",
    "    {'a': 1, 'b': 2},\n",
    "    {'b': 2, 'c': 3}\n",
    ") == {'a', 'c'}"
   ]
  }
 ],
 "metadata": {
  "kernelspec": {
   "display_name": "Python 3",
   "language": "python",
   "name": "python3"
  },
  "language_info": {
   "codemirror_mode": {
    "name": "ipython",
    "version": 3
   },
   "file_extension": ".py",
   "mimetype": "text/x-python",
   "name": "python",
   "nbconvert_exporter": "python",
   "pygments_lexer": "ipython3",
   "version": "3.7.4"
  }
 },
 "nbformat": 4,
 "nbformat_minor": 2
}
