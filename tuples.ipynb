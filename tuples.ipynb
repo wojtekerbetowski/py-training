{
 "cells": [
  {
   "cell_type": "code",
   "execution_count": null,
   "metadata": {},
   "outputs": [],
   "source": [
    "# Tuple creation\n",
    "\n",
    "empty = ()\n",
    "single = (1,)\n",
    "double = (1, 'a')\n",
    "also_double = 1, 'a'"
   ]
  },
  {
   "cell_type": "code",
   "execution_count": null,
   "metadata": {},
   "outputs": [],
   "source": [
    "# Tuples in Python\n",
    "\n",
    "{\n",
    "    'a': 1,\n",
    "}.items()"
   ]
  },
  {
   "cell_type": "code",
   "execution_count": null,
   "metadata": {},
   "outputs": [],
   "source": [
    "# Tuple comparison\n",
    "assert (1, 'a') == (1, 'a')\n",
    "assert ('a', 'b') < ('a', 'c', 'b')"
   ]
  },
  {
   "cell_type": "code",
   "execution_count": null,
   "metadata": {},
   "outputs": [],
   "source": [
    "# Immuteable\n",
    "t = (1, 2)\n",
    "t[0] = 1"
   ]
  },
  {
   "cell_type": "code",
   "execution_count": null,
   "metadata": {},
   "outputs": [],
   "source": [
    "# Unpacking\n",
    "my_vars = (90, 'Bob', None)\n",
    "age, name, address = my_vars"
   ]
  },
  {
   "cell_type": "code",
   "execution_count": null,
   "metadata": {},
   "outputs": [],
   "source": [
    "# Iterable\n",
    "for a in (1, 2, 1, 2):\n",
    "    print(a)"
   ]
  },
  {
   "cell_type": "code",
   "execution_count": null,
   "metadata": {},
   "outputs": [],
   "source": [
    "# Named tuple\n",
    "from collections import namedtuple\n",
    "user = namedtuple('user', 'age name address')\n",
    "\n",
    "bob = user(90, 'Bob', None)\n",
    "\n",
    "print(bob)\n",
    "\n",
    "print(bob.name)"
   ]
  }
 ],
 "metadata": {
  "kernelspec": {
   "display_name": "Python 3 (ipykernel)",
   "language": "python",
   "name": "python3"
  },
  "language_info": {
   "codemirror_mode": {
    "name": "ipython",
    "version": 3
   },
   "file_extension": ".py",
   "mimetype": "text/x-python",
   "name": "python",
   "nbconvert_exporter": "python",
   "pygments_lexer": "ipython3",
   "version": "3.9.14"
  }
 },
 "nbformat": 4,
 "nbformat_minor": 2
}
